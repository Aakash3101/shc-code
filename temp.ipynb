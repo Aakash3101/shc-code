{
 "cells": [
  {
   "cell_type": "code",
   "execution_count": 1,
   "id": "74060890-a32a-4dd4-bf66-6e2906dbeea5",
   "metadata": {
    "jupyter": {
     "source_hidden": true
    }
   },
   "outputs": [],
   "source": [
    "import os\n",
    "import joblib\n",
    "import pandas as pd"
   ]
  },
  {
   "cell_type": "code",
   "execution_count": 2,
   "id": "4b25405d-144f-44f3-9a95-4dfe2c368f95",
   "metadata": {
    "collapsed": true,
    "jupyter": {
     "outputs_hidden": true,
     "source_hidden": true
    }
   },
   "outputs": [
    {
     "data": {
      "text/plain": [
       "['rfr_model_2025-06-16_AEZ_6_N.joblib',\n",
       " 'rfr_model_2025-06-17_AEZ_10_N.joblib',\n",
       " 'rfr_model_2025-06-11_AEZ_4_N.joblib',\n",
       " 'rfr_model_2025-06-16_AEZ_7_N.joblib',\n",
       " '.ipynb_checkpoints',\n",
       " 'rfr_model_2025-06-11_AEZ_2_N.joblib',\n",
       " 'rfr_model_2025-06-11_AEZ_5_N.joblib',\n",
       " 'rfr_model_2025-06-18_AEZ_18_N.joblib',\n",
       " 'rfr_model_2025-06-18_AEZ_19_N.joblib',\n",
       " 'rfr_model_2025-06-11_AEZ_3_N.joblib',\n",
       " 'rfr_model_2025-06-17_AEZ_12_N.joblib',\n",
       " 'rfr_model_2025-06-16_AEZ_9_N.joblib',\n",
       " 'rfr_model_2025-06-18_AEZ_16_N.joblib',\n",
       " 'rfr_model_2025-06-16_AEZ_8_N.joblib',\n",
       " 'rfr_model_2025-06-18_AEZ_15_N.joblib',\n",
       " 'rfr_model_2025-06-17_AEZ_13_N.joblib',\n",
       " 'rfr_model_2025-06-17_AEZ_11_N.joblib',\n",
       " 'rfr_model_2025-06-17_AEZ_14_N.joblib',\n",
       " 'rfr_model_2025-06-18_AEZ_17_N.joblib',\n",
       " 'rfr_model_2025-06-18_AEZ_20_N.joblib']"
      ]
     },
     "execution_count": 2,
     "metadata": {},
     "output_type": "execute_result"
    }
   ],
   "source": [
    "PATH = \"./rfr_joblib/\"\n",
    "files = os.listdir(PATH)\n",
    "files"
   ]
  },
  {
   "cell_type": "code",
   "execution_count": 3,
   "id": "a81ed977-449c-4c2b-8cdc-7e826e1027f3",
   "metadata": {
    "jupyter": {
     "source_hidden": true
    }
   },
   "outputs": [],
   "source": [
    "data_dict = {\"AEZ\" : [], \"features\": []}"
   ]
  },
  {
   "cell_type": "code",
   "execution_count": 4,
   "id": "232ae07e-a8ec-46e0-a55b-ebe731089187",
   "metadata": {
    "jupyter": {
     "source_hidden": true
    }
   },
   "outputs": [],
   "source": [
    "aez_list = []\n",
    "features_list = []"
   ]
  },
  {
   "cell_type": "code",
   "execution_count": 6,
   "id": "f3990bf1-d435-4601-8eff-57fddaadc55d",
   "metadata": {
    "jupyter": {
     "source_hidden": true
    }
   },
   "outputs": [],
   "source": [
    "for file in files:\n",
    "    if file.endswith(\".joblib\"):\n",
    "        aez = file.split(\"_AEZ_\")[1].split(\"_\")[0]\n",
    "        rf = joblib.load(os.path.join(PATH, file))\n",
    "        aez_list.append(aez)\n",
    "        features_list.append(rf.feature_names_in_.tolist())"
   ]
  },
  {
   "cell_type": "code",
   "execution_count": 7,
   "id": "4c1a0de0-8bd4-4db9-a23d-4361d9a805d3",
   "metadata": {
    "jupyter": {
     "source_hidden": true
    }
   },
   "outputs": [],
   "source": [
    "data_dict[\"AEZ\"] = aez_list\n",
    "data_dict[\"features\"] = features_list"
   ]
  },
  {
   "cell_type": "code",
   "execution_count": 8,
   "id": "f6d77a7b-9d04-4fdf-a27b-0c6949575231",
   "metadata": {
    "jupyter": {
     "source_hidden": true
    }
   },
   "outputs": [],
   "source": [
    "df = pd.DataFrame(data_dict)"
   ]
  },
  {
   "cell_type": "code",
   "execution_count": 9,
   "id": "0f704cbb-c82c-4325-8c33-5e0541833c3f",
   "metadata": {
    "collapsed": true,
    "jupyter": {
     "outputs_hidden": true,
     "source_hidden": true
    }
   },
   "outputs": [
    {
     "data": {
      "text/html": [
       "<div>\n",
       "<style scoped>\n",
       "    .dataframe tbody tr th:only-of-type {\n",
       "        vertical-align: middle;\n",
       "    }\n",
       "\n",
       "    .dataframe tbody tr th {\n",
       "        vertical-align: top;\n",
       "    }\n",
       "\n",
       "    .dataframe thead th {\n",
       "        text-align: right;\n",
       "    }\n",
       "</style>\n",
       "<table border=\"1\" class=\"dataframe\">\n",
       "  <thead>\n",
       "    <tr style=\"text-align: right;\">\n",
       "      <th></th>\n",
       "      <th>AEZ</th>\n",
       "      <th>features</th>\n",
       "    </tr>\n",
       "  </thead>\n",
       "  <tbody>\n",
       "    <tr>\n",
       "      <th>0</th>\n",
       "      <td>6</td>\n",
       "      <td>[temp, RI, elevation, precipitation, clay515, ...</td>\n",
       "    </tr>\n",
       "    <tr>\n",
       "      <th>1</th>\n",
       "      <td>10</td>\n",
       "      <td>[temp, elevation, precipitation, clay05, sand0...</td>\n",
       "    </tr>\n",
       "    <tr>\n",
       "      <th>2</th>\n",
       "      <td>4</td>\n",
       "      <td>[temp, elevation, precipitation, sand05, silt0...</td>\n",
       "    </tr>\n",
       "    <tr>\n",
       "      <th>3</th>\n",
       "      <td>7</td>\n",
       "      <td>[temp, NDVI, SI, HI, elevation, precipitation,...</td>\n",
       "    </tr>\n",
       "    <tr>\n",
       "      <th>4</th>\n",
       "      <td>2</td>\n",
       "      <td>[temp, elevation, precipitation, clay05, sand0...</td>\n",
       "    </tr>\n",
       "    <tr>\n",
       "      <th>5</th>\n",
       "      <td>5</td>\n",
       "      <td>[temp, elevation, precipitation, clay05, sand0...</td>\n",
       "    </tr>\n",
       "    <tr>\n",
       "      <th>6</th>\n",
       "      <td>18</td>\n",
       "      <td>[temp, BI, SI, elevation, precipitation, sand0...</td>\n",
       "    </tr>\n",
       "    <tr>\n",
       "      <th>7</th>\n",
       "      <td>19</td>\n",
       "      <td>[temp, RI, elevation, precipitation, clay05, s...</td>\n",
       "    </tr>\n",
       "    <tr>\n",
       "      <th>8</th>\n",
       "      <td>3</td>\n",
       "      <td>[temp, elevation, precipitation, clay05, silt0...</td>\n",
       "    </tr>\n",
       "    <tr>\n",
       "      <th>9</th>\n",
       "      <td>12</td>\n",
       "      <td>[temp, SI, RI, elevation, precipitation, clay0...</td>\n",
       "    </tr>\n",
       "    <tr>\n",
       "      <th>10</th>\n",
       "      <td>9</td>\n",
       "      <td>[temp, SI, RI, elevation, precipitation, clay0...</td>\n",
       "    </tr>\n",
       "    <tr>\n",
       "      <th>11</th>\n",
       "      <td>16</td>\n",
       "      <td>[TWI, slope, temp, RI, elevation, precipitatio...</td>\n",
       "    </tr>\n",
       "    <tr>\n",
       "      <th>12</th>\n",
       "      <td>8</td>\n",
       "      <td>[temp, RI, elevation, precipitation, clay515, ...</td>\n",
       "    </tr>\n",
       "    <tr>\n",
       "      <th>13</th>\n",
       "      <td>15</td>\n",
       "      <td>[temp, SI, RI, precipitation, clay05, sand05, ...</td>\n",
       "    </tr>\n",
       "    <tr>\n",
       "      <th>14</th>\n",
       "      <td>13</td>\n",
       "      <td>[temp, SI, elevation, precipitation, clay05, s...</td>\n",
       "    </tr>\n",
       "    <tr>\n",
       "      <th>15</th>\n",
       "      <td>11</td>\n",
       "      <td>[temp, RI, elevation, precipitation, sand05, s...</td>\n",
       "    </tr>\n",
       "    <tr>\n",
       "      <th>16</th>\n",
       "      <td>14</td>\n",
       "      <td>[slope, temp, SI, CI, RI, elevation, precipita...</td>\n",
       "    </tr>\n",
       "    <tr>\n",
       "      <th>17</th>\n",
       "      <td>17</td>\n",
       "      <td>[temp, RI, elevation, precipitation, clay05, s...</td>\n",
       "    </tr>\n",
       "    <tr>\n",
       "      <th>18</th>\n",
       "      <td>20</td>\n",
       "      <td>[aspect, BI, SI, RI, elevation, sand05, silt05...</td>\n",
       "    </tr>\n",
       "  </tbody>\n",
       "</table>\n",
       "</div>"
      ],
      "text/plain": [
       "   AEZ                                           features\n",
       "0    6  [temp, RI, elevation, precipitation, clay515, ...\n",
       "1   10  [temp, elevation, precipitation, clay05, sand0...\n",
       "2    4  [temp, elevation, precipitation, sand05, silt0...\n",
       "3    7  [temp, NDVI, SI, HI, elevation, precipitation,...\n",
       "4    2  [temp, elevation, precipitation, clay05, sand0...\n",
       "5    5  [temp, elevation, precipitation, clay05, sand0...\n",
       "6   18  [temp, BI, SI, elevation, precipitation, sand0...\n",
       "7   19  [temp, RI, elevation, precipitation, clay05, s...\n",
       "8    3  [temp, elevation, precipitation, clay05, silt0...\n",
       "9   12  [temp, SI, RI, elevation, precipitation, clay0...\n",
       "10   9  [temp, SI, RI, elevation, precipitation, clay0...\n",
       "11  16  [TWI, slope, temp, RI, elevation, precipitatio...\n",
       "12   8  [temp, RI, elevation, precipitation, clay515, ...\n",
       "13  15  [temp, SI, RI, precipitation, clay05, sand05, ...\n",
       "14  13  [temp, SI, elevation, precipitation, clay05, s...\n",
       "15  11  [temp, RI, elevation, precipitation, sand05, s...\n",
       "16  14  [slope, temp, SI, CI, RI, elevation, precipita...\n",
       "17  17  [temp, RI, elevation, precipitation, clay05, s...\n",
       "18  20  [aspect, BI, SI, RI, elevation, sand05, silt05..."
      ]
     },
     "execution_count": 9,
     "metadata": {},
     "output_type": "execute_result"
    }
   ],
   "source": [
    "df"
   ]
  },
  {
   "cell_type": "code",
   "execution_count": 10,
   "id": "5e46ff71-3512-47cf-af13-1569f54fd6d8",
   "metadata": {
    "jupyter": {
     "source_hidden": true
    }
   },
   "outputs": [],
   "source": [
    "df.to_csv(\"aez_features_N.csv\", index=False)"
   ]
  },
  {
   "cell_type": "code",
   "execution_count": null,
   "id": "f9b85462-9b88-4eb5-a555-4374a3fec387",
   "metadata": {},
   "outputs": [],
   "source": []
  },
  {
   "cell_type": "code",
   "execution_count": 9,
   "id": "a9e39536-8983-4439-9886-886532252bf5",
   "metadata": {},
   "outputs": [
    {
     "name": "stdout",
     "output_type": "stream",
     "text": [
      "  system:index      B      BLUE    Cu     EC     Fe     GREEN       K     Mn  \\\n",
      "0          0_0  0.647  0.111101  0.42  0.110  11.69  0.127523  138.21   2.48   \n",
      "1          1_0  0.647  0.124067  0.18  0.071  11.96  0.140537  147.69   1.17   \n",
      "2          2_0  1.250  0.104526  0.70  0.396  98.46  0.124614  314.36   1.66   \n",
      "3          4_0  1.310  0.127284  3.66  0.155   7.88  0.144306  182.92   9.06   \n",
      "4          5_0  0.499  0.128535  3.56  0.090   7.76  0.145185  121.95  10.84   \n",
      "\n",
      "       N  ...  sand05  sand515  silt05  silt515     slope  start_date  \\\n",
      "0  203.0  ...     381      376     384      383  3.461705  2024-01-01   \n",
      "1  262.0  ...     376      373     405      410  2.775001  2024-01-01   \n",
      "2  290.0  ...     339      342     414      413  2.065258  2024-01-01   \n",
      "3  362.0  ...     339      339     432      436  2.067726  2024-01-01   \n",
      "4  234.0  ...     385      380     391      393  1.388967  2024-01-01   \n",
      "\n",
      "        temp   village  longitude   latitude  \n",
      "0  30.038812     Asura  87.852136  26.150542  \n",
      "1  30.025833    Laitor  87.713885  26.167789  \n",
      "2  30.062687  Dheksara  87.952118  26.130330  \n",
      "3  30.102062    Koltha  88.078511  26.269389  \n",
      "4  30.129097     Mahua  87.710651  26.266424  \n",
      "\n",
      "[5 rows x 38 columns]\n"
     ]
    }
   ],
   "source": [
    "import os\n",
    "import pandas as pd\n",
    "\n",
    "DATA_DIR = \"./shc_data/\"\n",
    "SATELLITE_DIR = \"SATELLITE_DATA\"\n",
    "YEAR = \"2024\"\n",
    "\n",
    "PATH = os.path.join(DATA_DIR, SATELLITE_DIR, YEAR)\n",
    "states = os.listdir(PATH)\n",
    "\n",
    "state_dfs = []\n",
    "for state in states:\n",
    "    district_dfs = []\n",
    "    files = os.listdir(os.path.join(PATH, state))\n",
    "    for file in files:\n",
    "        try:\n",
    "            df = pd.read_csv(os.path.join(PATH, state, file))\n",
    "        except pd.errors.EmptyDataError:\n",
    "            continue\n",
    "        district_dfs.append(df) \n",
    "    try:\n",
    "        temp_df = pd.concat(district_dfs, ignore_index=True)\n",
    "    except ValueError:\n",
    "        continue\n",
    "    \n",
    "    state_dfs.append(temp_df)\n",
    "\n",
    "merged_df = pd.concat(state_dfs, ignore_index=True)\n",
    "\n",
    "# Apply your split logic and extract lat/lon\n",
    "coords = merged_df['.geo'].apply(lambda x: x.split('\"coordinates\":')[1].split('}')[0].strip('[').strip(']').split(','))\n",
    "\n",
    "# Convert to DataFrame and assign to new columns\n",
    "merged_df[['longitude', 'latitude']] = pd.DataFrame(coords.tolist(), index=merged_df.index).astype(float)\n",
    "merged_df = merged_df.drop(['.geo'], axis=1)\n",
    "\n",
    "print(merged_df.head())"
   ]
  },
  {
   "cell_type": "code",
   "execution_count": 10,
   "id": "3746b99a-d7a5-4b8b-9cf2-1d1984fbf11c",
   "metadata": {},
   "outputs": [
    {
     "data": {
      "text/plain": [
       "Index(['system:index', 'B', 'BLUE', 'Cu', 'EC', 'Fe', 'GREEN', 'K', 'Mn', 'N',\n",
       "       'NIR', 'OC', 'P', 'RED', 'S', 'SWIR1', 'SWIR2', 'TWI', 'Zn', 'aspect',\n",
       "       'clay05', 'clay515', 'date', 'district', 'elevation', 'end_date', 'pH',\n",
       "       'precipitation', 'sand05', 'sand515', 'silt05', 'silt515', 'slope',\n",
       "       'start_date', 'temp', 'village', 'longitude', 'latitude'],\n",
       "      dtype='object')"
      ]
     },
     "execution_count": 10,
     "metadata": {},
     "output_type": "execute_result"
    }
   ],
   "source": [
    "merged_df.columns"
   ]
  },
  {
   "cell_type": "code",
   "execution_count": 11,
   "id": "f819f0a3-7895-43b7-8e6e-be9f55f93628",
   "metadata": {},
   "outputs": [],
   "source": [
    "merged_df.to_csv(os.path.join(DATA_DIR, SATELLITE_DIR, YEAR, \"COMBINED_2024.csv\"), index=False)"
   ]
  },
  {
   "cell_type": "code",
   "execution_count": 13,
   "id": "60abc1ba-d6ca-4ec4-93ef-2e080b27d72b",
   "metadata": {},
   "outputs": [],
   "source": [
    "from segregate_by_aez import segregate_by_aez"
   ]
  },
  {
   "cell_type": "code",
   "execution_count": 14,
   "id": "ebf859f7-940a-42a9-8fa8-8e0811b612b4",
   "metadata": {},
   "outputs": [],
   "source": [
    "aez_df = segregate_by_aez(merged_df)"
   ]
  },
  {
   "cell_type": "code",
   "execution_count": 17,
   "id": "1e96c72c-3a9c-4be7-8b8d-6b80a09be2e8",
   "metadata": {},
   "outputs": [
    {
     "data": {
      "text/plain": [
       "array([13., 15.,  9., 11.,  5.,  2.,  4., 19.,  6., 16., 17.,  7., 18.,\n",
       "        3.,  8., 12., 14., 10., 20.])"
      ]
     },
     "execution_count": 17,
     "metadata": {},
     "output_type": "execute_result"
    }
   ],
   "source": [
    "import numpy as np\n",
    "\n",
    "unique_aezs = aez_df['ae_regcode'].unique()\n",
    "unique_aezs = unique_aezs[~np.isnan(unique_aezs)]\n",
    "unique_aezs"
   ]
  },
  {
   "cell_type": "code",
   "execution_count": 18,
   "id": "8bf0d03c-9e48-41c2-8ab2-7cf5b711fc3a",
   "metadata": {},
   "outputs": [
    {
     "name": "stdout",
     "output_type": "stream",
     "text": [
      "13.0 223547\n",
      "15.0 391792\n",
      "9.0 247913\n",
      "11.0 144661\n",
      "5.0 162324\n",
      "2.0 177533\n",
      "4.0 498657\n",
      "19.0 26601\n",
      "6.0 147349\n",
      "16.0 22575\n",
      "17.0 30554\n",
      "7.0 20348\n",
      "18.0 60384\n",
      "3.0 27082\n",
      "8.0 161273\n",
      "12.0 122799\n",
      "14.0 55669\n",
      "10.0 130745\n",
      "20.0 214\n"
     ]
    }
   ],
   "source": [
    "for aez in unique_aezs:\n",
    "    df = aez_df[aez_df['ae_regcode'] == aez]\n",
    "    print(aez, len(df))\n",
    "    df.to_csv(os.path.join(DATA_DIR, \"AEZS\", YEAR, f\"AEZ_{int(aez)}.csv\"), index=False)"
   ]
  },
  {
   "cell_type": "code",
   "execution_count": null,
   "id": "dd2a51e2-c226-4f47-9a79-955fc0eec140",
   "metadata": {},
   "outputs": [],
   "source": []
  }
 ],
 "metadata": {
  "kernelspec": {
   "display_name": "Python 3 (ipykernel)",
   "language": "python",
   "name": "python3"
  },
  "language_info": {
   "codemirror_mode": {
    "name": "ipython",
    "version": 3
   },
   "file_extension": ".py",
   "mimetype": "text/x-python",
   "name": "python",
   "nbconvert_exporter": "python",
   "pygments_lexer": "ipython3",
   "version": "3.10.12"
  }
 },
 "nbformat": 4,
 "nbformat_minor": 5
}
