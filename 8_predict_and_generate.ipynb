{
 "cells": [
  {
   "cell_type": "code",
   "execution_count": 1,
   "id": "f1b06d48-3e2a-41c4-bb50-b0b71e7b91f1",
   "metadata": {},
   "outputs": [],
   "source": [
    "import os\n",
    "import math\n",
    "import joblib\n",
    "import datetime\n",
    "import pandas as pd\n",
    "import matplotlib.pyplot as plt\n",
    "\n",
    "import ee\n",
    "import geemap\n",
    "from geemap import ml\n",
    "from geemap import colormaps\n",
    "from geemap import cartoee\n",
    "import cartopy.crs as ccrs"
   ]
  },
  {
   "cell_type": "code",
   "execution_count": 2,
   "id": "93a76206-2e39-44af-8267-af148d1198ee",
   "metadata": {},
   "outputs": [
    {
     "data": {
      "text/html": [
       "\n",
       "            <style>\n",
       "                .geemap-dark {\n",
       "                    --jp-widgets-color: white;\n",
       "                    --jp-widgets-label-color: white;\n",
       "                    --jp-ui-font-color1: white;\n",
       "                    --jp-layout-color2: #454545;\n",
       "                    background-color: #383838;\n",
       "                }\n",
       "\n",
       "                .geemap-dark .jupyter-button {\n",
       "                    --jp-layout-color3: #383838;\n",
       "                }\n",
       "\n",
       "                .geemap-colab {\n",
       "                    background-color: var(--colab-primary-surface-color, white);\n",
       "                }\n",
       "\n",
       "                .geemap-colab .jupyter-button {\n",
       "                    --jp-layout-color3: var(--colab-primary-surface-color, white);\n",
       "                }\n",
       "            </style>\n",
       "            "
      ],
      "text/plain": [
       "<IPython.core.display.HTML object>"
      ]
     },
     "metadata": {},
     "output_type": "display_data"
    },
    {
     "name": "stdout",
     "output_type": "stream",
     "text": [
      "Google Earth Engine initialized successfully!\n"
     ]
    }
   ],
   "source": [
    "# Initialize Earth Engine\n",
    "try:\n",
    "    # ee.Authenticate()\n",
    "    ee.Initialize(opt_url='https://earthengine-highvolume.googleapis.com')\n",
    "    print('Google Earth Engine initialized successfully!')\n",
    "except ee.EEException as e:\n",
    "    print('Google Earth Engine failed to initialize!', e)\n",
    "    raise"
   ]
  },
  {
   "cell_type": "code",
   "execution_count": 3,
   "id": "54a2a996-28ba-407b-b5a6-e15c01e73c59",
   "metadata": {},
   "outputs": [
    {
     "data": {
      "text/html": [
       "\n",
       "            <style>\n",
       "                .geemap-dark {\n",
       "                    --jp-widgets-color: white;\n",
       "                    --jp-widgets-label-color: white;\n",
       "                    --jp-ui-font-color1: white;\n",
       "                    --jp-layout-color2: #454545;\n",
       "                    background-color: #383838;\n",
       "                }\n",
       "\n",
       "                .geemap-dark .jupyter-button {\n",
       "                    --jp-layout-color3: #383838;\n",
       "                }\n",
       "\n",
       "                .geemap-colab {\n",
       "                    background-color: var(--colab-primary-surface-color, white);\n",
       "                }\n",
       "\n",
       "                .geemap-colab .jupyter-button {\n",
       "                    --jp-layout-color3: var(--colab-primary-surface-color, white);\n",
       "                }\n",
       "            </style>\n",
       "            "
      ],
      "text/plain": [
       "<IPython.core.display.HTML object>"
      ]
     },
     "metadata": {},
     "output_type": "display_data"
    }
   ],
   "source": [
    "INPUT_FOLDER = \"./rfr_joblib\"\n",
    "OUTPUT_FOLDER = \"./rfr_csv\"\n",
    "AEZ = 2\n",
    "date = \"2025-06-27\"\n",
    "PRED_VARIABLE = \"N\"\n",
    "PLOTS_DIR = \"./plots\"\n",
    "PLOT_SAVE_PATH = os.path.join(os.path.join(PLOTS_DIR, f\"AEZ_{AEZ}\"), PRED_VARIABLE)\n",
    "MODEL_FILE_NAME = f\"rfr_model_{date}_AEZ_{AEZ}_{PRED_VARIABLE}.joblib\"\n",
    "rf = joblib.load(os.path.join(INPUT_FOLDER, MODEL_FILE_NAME))\n",
    "CSV_FILE_NAME = f\"rf_trees_t{rf.get_params()['n_estimators']}_d{rf.get_params()['max_depth']}_{date}_AEZ_{AEZ}_{PRED_VARIABLE}.csv\"\n",
    "out_csv = os.path.join(OUTPUT_FOLDER, CSV_FILE_NAME)\n",
    "\n",
    "classifier = ml.csv_to_classifier(out_csv)"
   ]
  },
  {
   "cell_type": "code",
   "execution_count": 4,
   "id": "58959459-cdba-48bb-a490-67701fd6d858",
   "metadata": {},
   "outputs": [
    {
     "data": {
      "text/html": [
       "\n",
       "            <style>\n",
       "                .geemap-dark {\n",
       "                    --jp-widgets-color: white;\n",
       "                    --jp-widgets-label-color: white;\n",
       "                    --jp-ui-font-color1: white;\n",
       "                    --jp-layout-color2: #454545;\n",
       "                    background-color: #383838;\n",
       "                }\n",
       "\n",
       "                .geemap-dark .jupyter-button {\n",
       "                    --jp-layout-color3: #383838;\n",
       "                }\n",
       "\n",
       "                .geemap-colab {\n",
       "                    background-color: var(--colab-primary-surface-color, white);\n",
       "                }\n",
       "\n",
       "                .geemap-colab .jupyter-button {\n",
       "                    --jp-layout-color3: var(--colab-primary-surface-color, white);\n",
       "                }\n",
       "            </style>\n",
       "            "
      ],
      "text/plain": [
       "<IPython.core.display.HTML object>"
      ]
     },
     "metadata": {},
     "output_type": "display_data"
    }
   ],
   "source": [
    "# x = classifier.getInfo()\n",
    "# print([len(x['treeStrings'][i]) for i in range(len(x['treeStrings']))])"
   ]
  },
  {
   "cell_type": "code",
   "execution_count": 5,
   "id": "a9b1cdfb-c49a-4a62-9b75-cb7acc65c037",
   "metadata": {},
   "outputs": [
    {
     "data": {
      "text/html": [
       "\n",
       "            <style>\n",
       "                .geemap-dark {\n",
       "                    --jp-widgets-color: white;\n",
       "                    --jp-widgets-label-color: white;\n",
       "                    --jp-ui-font-color1: white;\n",
       "                    --jp-layout-color2: #454545;\n",
       "                    background-color: #383838;\n",
       "                }\n",
       "\n",
       "                .geemap-dark .jupyter-button {\n",
       "                    --jp-layout-color3: #383838;\n",
       "                }\n",
       "\n",
       "                .geemap-colab {\n",
       "                    background-color: var(--colab-primary-surface-color, white);\n",
       "                }\n",
       "\n",
       "                .geemap-colab .jupyter-button {\n",
       "                    --jp-layout-color3: var(--colab-primary-surface-color, white);\n",
       "                }\n",
       "            </style>\n",
       "            "
      ],
      "text/plain": [
       "<IPython.core.display.HTML object>"
      ]
     },
     "metadata": {},
     "output_type": "display_data"
    },
    {
     "data": {
      "text/plain": [
       "array(['TWI', 'temp', 'RI', 'elevation', 'precipitation', 'sand515',\n",
       "       'TGSI', 'NCI', 'longitude', 'latitude'], dtype=object)"
      ]
     },
     "execution_count": 5,
     "metadata": {},
     "output_type": "execute_result"
    }
   ],
   "source": [
    "features = rf.feature_names_in_\n",
    "features"
   ]
  },
  {
   "cell_type": "code",
   "execution_count": 6,
   "id": "c49b5469-18f3-4bb8-aaf9-f44db01fbdd8",
   "metadata": {},
   "outputs": [
    {
     "data": {
      "text/html": [
       "\n",
       "            <style>\n",
       "                .geemap-dark {\n",
       "                    --jp-widgets-color: white;\n",
       "                    --jp-widgets-label-color: white;\n",
       "                    --jp-ui-font-color1: white;\n",
       "                    --jp-layout-color2: #454545;\n",
       "                    background-color: #383838;\n",
       "                }\n",
       "\n",
       "                .geemap-dark .jupyter-button {\n",
       "                    --jp-layout-color3: #383838;\n",
       "                }\n",
       "\n",
       "                .geemap-colab {\n",
       "                    background-color: var(--colab-primary-surface-color, white);\n",
       "                }\n",
       "\n",
       "                .geemap-colab .jupyter-button {\n",
       "                    --jp-layout-color3: var(--colab-primary-surface-color, white);\n",
       "                }\n",
       "            </style>\n",
       "            "
      ],
      "text/plain": [
       "<IPython.core.display.HTML object>"
      ]
     },
     "metadata": {},
     "output_type": "display_data"
    }
   ],
   "source": [
    "aez_fc = ee.FeatureCollection(\"projects/ee-aakash312000/assets/Agro_Ecological_Regions\")\n",
    "current_aez = aez_fc.filter(ee.Filter.eq('ae_regcode', AEZ))\n",
    "AOI = current_aez"
   ]
  },
  {
   "cell_type": "code",
   "execution_count": 7,
   "id": "70c86840-de5b-4543-85fc-ad9d74b0222c",
   "metadata": {},
   "outputs": [
    {
     "data": {
      "text/html": [
       "\n",
       "            <style>\n",
       "                .geemap-dark {\n",
       "                    --jp-widgets-color: white;\n",
       "                    --jp-widgets-label-color: white;\n",
       "                    --jp-ui-font-color1: white;\n",
       "                    --jp-layout-color2: #454545;\n",
       "                    background-color: #383838;\n",
       "                }\n",
       "\n",
       "                .geemap-dark .jupyter-button {\n",
       "                    --jp-layout-color3: #383838;\n",
       "                }\n",
       "\n",
       "                .geemap-colab {\n",
       "                    background-color: var(--colab-primary-surface-color, white);\n",
       "                }\n",
       "\n",
       "                .geemap-colab .jupyter-button {\n",
       "                    --jp-layout-color3: var(--colab-primary-surface-color, white);\n",
       "                }\n",
       "            </style>\n",
       "            "
      ],
      "text/plain": [
       "<IPython.core.display.HTML object>"
      ]
     },
     "metadata": {},
     "output_type": "display_data"
    }
   ],
   "source": [
    "def add_indices(image):\n",
    "    indices = []\n",
    "\n",
    "    # NDVI - Normalized Difference Vegetation Index\n",
    "    if 'NDVI' in features:\n",
    "        ndvi = image.normalizedDifference(['B8', 'B4']).rename('NDVI')\n",
    "        indices.append(ndvi)\n",
    "\n",
    "    # EVI - Enhanced Vegetation Index\n",
    "    if 'EVI' in features:\n",
    "        evi = image.expression(\n",
    "            '2.5 * (NIR - RED) / (NIR + 6 * RED - 7.5 * BLUE + 1)', {\n",
    "                'NIR': image.select('B8'),\n",
    "                'RED': image.select('B4'),\n",
    "                'BLUE': image.select('B2')\n",
    "            }).rename('EVI')\n",
    "        indices.append(evi)\n",
    "\n",
    "    # NDWI - Normalized Difference Water Index\n",
    "    if 'NDWI' in features:\n",
    "        ndwi = image.normalizedDifference(['B3', 'B8']).rename('NDWI')\n",
    "        indices.append(ndwi)\n",
    "\n",
    "    # SAVI - Soil Adjusted Vegetation Index\n",
    "    if 'SAVI' in features:\n",
    "        savi = image.expression(\n",
    "            '(NIR - RED) / (NIR + RED + 0.5) * 1.5', {\n",
    "                'NIR': image.select('B8'),\n",
    "                'RED': image.select('B4')\n",
    "            }).rename('SAVI')\n",
    "        indices.append(savi)\n",
    "\n",
    "    # BI - Brightness Index\n",
    "    if 'BI' in features:\n",
    "        bi = image.expression(\n",
    "            'sqrt((RED**2 + GREEN**2 + BLUE**2) / 3)', {\n",
    "                'RED': image.select('B4'),\n",
    "                'GREEN': image.select('B3'),\n",
    "                'BLUE': image.select('B2')\n",
    "            }).rename('BI')\n",
    "        indices.append(bi)\n",
    "\n",
    "    # SI - Simple Index\n",
    "    if 'SI' in features:\n",
    "        si = image.normalizedDifference(['B4', 'B2']).rename('SI')\n",
    "        indices.append(si)\n",
    "\n",
    "    # HI - Hue Index\n",
    "    if 'HI' in features:\n",
    "        hi = image.expression(\n",
    "            '(2 * RED - GREEN - BLUE) / (GREEN - BLUE)', {\n",
    "                'RED': image.select('B4'),\n",
    "                'GREEN': image.select('B3'),\n",
    "                'BLUE': image.select('B2')\n",
    "            }).rename('HI')\n",
    "        indices.append(hi)\n",
    "\n",
    "    # CI - Color Index\n",
    "    if 'CI' in features:\n",
    "        ci = image.normalizedDifference(['B4', 'B3']).rename('CI')\n",
    "        indices.append(ci)\n",
    "\n",
    "    # RI - Redness Index\n",
    "    if 'RI' in features:\n",
    "        ri = image.expression(\n",
    "            'RED**2 / (BLUE * GREEN**3)', {\n",
    "                'RED': image.select('B4'),\n",
    "                'GREEN': image.select('B3'),\n",
    "                'BLUE': image.select('B2')\n",
    "            }).rename('RI')\n",
    "        indices.append(ri)\n",
    "\n",
    "    # TGSI - Transformed Green Soil Index\n",
    "    if 'TGSI' in features:\n",
    "        tgsi = image.normalizedDifference(['B11', 'B8']).rename('TGSI')\n",
    "        indices.append(tgsi)\n",
    "\n",
    "    # NCI - Normalized Chlorophyll Index\n",
    "    if 'NCI' in features:\n",
    "        nci = image.normalizedDifference(['B11', 'B12']).rename('NCI')\n",
    "        indices.append(nci)\n",
    "\n",
    "    # GNDVI - Green NDVI\n",
    "    if 'GNDVI' in features:\n",
    "        gndvi = image.normalizedDifference(['B8', 'B3']).rename('GNDVI')\n",
    "        indices.append(gndvi)\n",
    "\n",
    "    # Return image with all computed indices added as bands\n",
    "    return image.addBands(indices) if indices else image"
   ]
  },
  {
   "cell_type": "code",
   "execution_count": 8,
   "id": "27696bb5-91da-4d0e-911e-d0fb95dd7d23",
   "metadata": {},
   "outputs": [
    {
     "data": {
      "text/html": [
       "\n",
       "            <style>\n",
       "                .geemap-dark {\n",
       "                    --jp-widgets-color: white;\n",
       "                    --jp-widgets-label-color: white;\n",
       "                    --jp-ui-font-color1: white;\n",
       "                    --jp-layout-color2: #454545;\n",
       "                    background-color: #383838;\n",
       "                }\n",
       "\n",
       "                .geemap-dark .jupyter-button {\n",
       "                    --jp-layout-color3: #383838;\n",
       "                }\n",
       "\n",
       "                .geemap-colab {\n",
       "                    background-color: var(--colab-primary-surface-color, white);\n",
       "                }\n",
       "\n",
       "                .geemap-colab .jupyter-button {\n",
       "                    --jp-layout-color3: var(--colab-primary-surface-color, white);\n",
       "                }\n",
       "            </style>\n",
       "            "
      ],
      "text/plain": [
       "<IPython.core.display.HTML object>"
      ]
     },
     "metadata": {},
     "output_type": "display_data"
    }
   ],
   "source": [
    "# Define the update function for Sentinel-2\n",
    "def normalize(image):\n",
    "    return image.divide(10000)\n",
    "\n",
    "# Define the update function for LST\n",
    "def update(image):\n",
    "    return image.multiply(0.002)\n",
    "\n",
    "def load_soil_image(property_name, features, roi):\n",
    "    band_maps = {\n",
    "        'sand': {'sand05': 'sand_0-5cm_mean', 'sand515': 'sand_5-15cm_mean'},\n",
    "        'silt': {'silt05': 'silt_0-5cm_mean', 'silt515': 'silt_5-15cm_mean'},\n",
    "        'clay': {'clay05': 'clay_0-5cm_mean', 'clay515': 'clay_5-15cm_mean'}\n",
    "    }\n",
    "\n",
    "    band_map = band_maps.get(property_name, {})\n",
    "    selected = [(v, k) for k, v in band_map.items() if k in features]\n",
    "    if selected:\n",
    "        bands, names = zip(*selected)\n",
    "        return ee.Image(f\"projects/soilgrids-isric/{property_name}_mean\").select(list(bands)).rename(list(names)).clip(roi)\n",
    "    return None\n",
    "\n",
    "roi = AOI.geometry()\n",
    "\n",
    "s2 = (ee.ImageCollection(\"COPERNICUS/S2_SR_HARMONIZED\")\n",
    "          .filterBounds(roi)\n",
    "          .filterDate('2023-01-01', '2023-12-31')\n",
    "          .select(['B2','B3','B4','B8','B11','B12'])\n",
    "          .map(normalize)\n",
    "          .map(add_indices)\n",
    "          .mean())\n",
    "\n",
    "images = [s2]\n",
    "\n",
    "if 'temp' in features:\n",
    "    # Load MODIS LST data\n",
    "    temp = (ee.ImageCollection(\"MODIS/061/MOD11A2\")\n",
    "            .select('LST_Day_1km')\n",
    "            .filterDate('2023-01-01', '2023-12-31')\n",
    "            .filterBounds(roi)\n",
    "            .map(update)\n",
    "            .mean()\n",
    "            .rename('temp'))\n",
    "    \n",
    "    images.append(temp)\n",
    "\n",
    "if 'precipitation' in features:\n",
    "    # Load CHIRPS Precipitation data\n",
    "    preci = (ee.ImageCollection('UCSB-CHG/CHIRPS/DAILY')\n",
    "             .filterDate('2023-01-01', '2023-12-31')\n",
    "             .filterBounds(roi)\n",
    "             .mean()\n",
    "             .rename('precipitation'))\n",
    "\n",
    "    images.append(preci)\n",
    "\n",
    "# Load SRTM Elevation data\n",
    "elevation = (ee.Image(\"USGS/SRTMGL1_003\")\n",
    "             .clip(roi)\n",
    "             .rename('elevation'))\n",
    "\n",
    "if 'elevation' in features:\n",
    "    images.append(elevation)\n",
    "\n",
    "\n",
    "# Load slope image\n",
    "slope = ee.Terrain.slope(elevation).rename('slope')\n",
    "# Load aspect image\n",
    "aspect = ee.Terrain.aspect(elevation).rename('aspect')\n",
    "\n",
    "if 'slope' in features:\n",
    "    images.append(slope)\n",
    "\n",
    "if 'aspect' in features:\n",
    "    images.append(aspect)\n",
    "\n",
    "if 'TWI' in features:\n",
    "    # Convert slope from degrees to radians\n",
    "    slope_radians = slope.multiply(math.pi).divide(180)\n",
    "    # Compute tan(slope)\n",
    "    tan_slope = slope_radians.tan()\n",
    "    # Replace 0 values in tan_slope to avoid division by zero\n",
    "    safe_slope = tan_slope.where(tan_slope.eq(0), 0.001)\n",
    "    # Load flow accumulation (MERIT Hydro upstream area)\n",
    "    flow_accumulation = ee.Image(\"MERIT/Hydro/v1_0_1\").select(\"upa\").clip(roi)\n",
    "    # Compute TWI = ln(flow accumulation / tan(slope))\n",
    "    twi = flow_accumulation.divide(safe_slope).log().rename('TWI')\n",
    "    images.append(twi)\n",
    "\n",
    "sand = load_soil_image('sand', features, roi)\n",
    "if sand is not None:\n",
    "    images.append(sand)\n",
    "\n",
    "silt = load_soil_image('silt', features, roi)\n",
    "if silt is not None:\n",
    "    images.append(silt)\n",
    "\n",
    "clay = load_soil_image('clay', features, roi)\n",
    "if clay is not None:\n",
    "    images.append(clay)\n",
    "\n",
    "latlon = ee.Image.pixelLonLat().select([\"latitude\", \"longitude\"])\n",
    "\n",
    "# Combine all bands into a single image\n",
    "s2_with_indices = (ee.Image(images).toFloat())\n",
    "\n",
    "# Add latitude and longitude bands\n",
    "s2_with_indices = s2_with_indices.addBands(latlon)\n",
    "\n",
    "# Clip final image to the 'state' region\n",
    "s2_with_indices = s2_with_indices.clip(AOI)"
   ]
  },
  {
   "cell_type": "code",
   "execution_count": 9,
   "id": "f1119b0c-a1e0-4b66-9960-f1d20574935a",
   "metadata": {},
   "outputs": [
    {
     "data": {
      "text/html": [
       "\n",
       "            <style>\n",
       "                .geemap-dark {\n",
       "                    --jp-widgets-color: white;\n",
       "                    --jp-widgets-label-color: white;\n",
       "                    --jp-ui-font-color1: white;\n",
       "                    --jp-layout-color2: #454545;\n",
       "                    background-color: #383838;\n",
       "                }\n",
       "\n",
       "                .geemap-dark .jupyter-button {\n",
       "                    --jp-layout-color3: #383838;\n",
       "                }\n",
       "\n",
       "                .geemap-colab {\n",
       "                    background-color: var(--colab-primary-surface-color, white);\n",
       "                }\n",
       "\n",
       "                .geemap-colab .jupyter-button {\n",
       "                    --jp-layout-color3: var(--colab-primary-surface-color, white);\n",
       "                }\n",
       "            </style>\n",
       "            "
      ],
      "text/plain": [
       "<IPython.core.display.HTML object>"
      ]
     },
     "metadata": {},
     "output_type": "display_data"
    }
   ],
   "source": [
    "classified = s2_with_indices.classify(classifier)\n",
    "\n",
    "# min_max_values = classified.reduceRegion(\n",
    "#     reducer=ee.Reducer.minMax(),\n",
    "#     geometry=roi,\n",
    "#     bestEffort=True\n",
    "# )\n",
    "# print('minMaxValues', min_max_values.getInfo())"
   ]
  },
  {
   "cell_type": "code",
   "execution_count": 10,
   "id": "f6199014-f962-44b1-960c-ebc70294d3cc",
   "metadata": {},
   "outputs": [
    {
     "data": {
      "text/html": [
       "\n",
       "            <style>\n",
       "                .geemap-dark {\n",
       "                    --jp-widgets-color: white;\n",
       "                    --jp-widgets-label-color: white;\n",
       "                    --jp-ui-font-color1: white;\n",
       "                    --jp-layout-color2: #454545;\n",
       "                    background-color: #383838;\n",
       "                }\n",
       "\n",
       "                .geemap-dark .jupyter-button {\n",
       "                    --jp-layout-color3: #383838;\n",
       "                }\n",
       "\n",
       "                .geemap-colab {\n",
       "                    background-color: var(--colab-primary-surface-color, white);\n",
       "                }\n",
       "\n",
       "                .geemap-colab .jupyter-button {\n",
       "                    --jp-layout-color3: var(--colab-primary-surface-color, white);\n",
       "                }\n",
       "            </style>\n",
       "            "
      ],
      "text/plain": [
       "<IPython.core.display.HTML object>"
      ]
     },
     "metadata": {},
     "output_type": "display_data"
    }
   ],
   "source": [
    "color_palette = colormaps.get_palette('RdYlGn', n_class=5)\n",
    "\n",
    "# Now you can use it for visualization parameters\n",
    "viz_params = {\n",
    "    'min': 0,\n",
    "    'max': 750,\n",
    "    'palette': color_palette\n",
    "}"
   ]
  },
  {
   "cell_type": "code",
   "execution_count": 11,
   "id": "26138173-7b3d-4359-a864-53a0738ea8d1",
   "metadata": {},
   "outputs": [
    {
     "data": {
      "text/html": [
       "\n",
       "            <style>\n",
       "                .geemap-dark {\n",
       "                    --jp-widgets-color: white;\n",
       "                    --jp-widgets-label-color: white;\n",
       "                    --jp-ui-font-color1: white;\n",
       "                    --jp-layout-color2: #454545;\n",
       "                    background-color: #383838;\n",
       "                }\n",
       "\n",
       "                .geemap-dark .jupyter-button {\n",
       "                    --jp-layout-color3: #383838;\n",
       "                }\n",
       "\n",
       "                .geemap-colab {\n",
       "                    background-color: var(--colab-primary-surface-color, white);\n",
       "                }\n",
       "\n",
       "                .geemap-colab .jupyter-button {\n",
       "                    --jp-layout-color3: var(--colab-primary-surface-color, white);\n",
       "                }\n",
       "            </style>\n",
       "            "
      ],
      "text/plain": [
       "<IPython.core.display.HTML object>"
      ]
     },
     "metadata": {},
     "output_type": "display_data"
    }
   ],
   "source": [
    "# display results\n",
    "Map = geemap.Map()"
   ]
  },
  {
   "cell_type": "code",
   "execution_count": 12,
   "id": "2e90c8e4-ed09-49bf-a194-c433dddc2b01",
   "metadata": {},
   "outputs": [
    {
     "data": {
      "text/html": [
       "\n",
       "            <style>\n",
       "                .geemap-dark {\n",
       "                    --jp-widgets-color: white;\n",
       "                    --jp-widgets-label-color: white;\n",
       "                    --jp-ui-font-color1: white;\n",
       "                    --jp-layout-color2: #454545;\n",
       "                    background-color: #383838;\n",
       "                }\n",
       "\n",
       "                .geemap-dark .jupyter-button {\n",
       "                    --jp-layout-color3: #383838;\n",
       "                }\n",
       "\n",
       "                .geemap-colab {\n",
       "                    background-color: var(--colab-primary-surface-color, white);\n",
       "                }\n",
       "\n",
       "                .geemap-colab .jupyter-button {\n",
       "                    --jp-layout-color3: var(--colab-primary-surface-color, white);\n",
       "                }\n",
       "            </style>\n",
       "            "
      ],
      "text/plain": [
       "<IPython.core.display.HTML object>"
      ]
     },
     "metadata": {},
     "output_type": "display_data"
    }
   ],
   "source": [
    "Map.centerObject(AOI, zoom=5)\n",
    "Map.addLayer(AOI, {'color': 'blue'}, \"ROI\")\n",
    "\n",
    "Map.addLayer(\n",
    "    classified,\n",
    "    viz_params,\n",
    "    f\"predicted_{PRED_VARIABLE}\",\n",
    ")\n",
    "\n",
    "Map.add_legend(\n",
    "    title=\"Predicted Nitrogen (kg/ha)\",  # Set the title of the legend\n",
    "    labels=['0-150', '151-300', '301-450', '451-600', '601-750'],  # Labels for different ranges of values\n",
    "    colors=color_palette  # Use the defined ColorBrewer Greens palette\n",
    ")"
   ]
  },
  {
   "cell_type": "code",
   "execution_count": 13,
   "id": "56ee9f36-09ec-4f37-860e-83661faaf3d5",
   "metadata": {},
   "outputs": [
    {
     "data": {
      "text/html": [
       "\n",
       "            <style>\n",
       "                .geemap-dark {\n",
       "                    --jp-widgets-color: white;\n",
       "                    --jp-widgets-label-color: white;\n",
       "                    --jp-ui-font-color1: white;\n",
       "                    --jp-layout-color2: #454545;\n",
       "                    background-color: #383838;\n",
       "                }\n",
       "\n",
       "                .geemap-dark .jupyter-button {\n",
       "                    --jp-layout-color3: #383838;\n",
       "                }\n",
       "\n",
       "                .geemap-colab {\n",
       "                    background-color: var(--colab-primary-surface-color, white);\n",
       "                }\n",
       "\n",
       "                .geemap-colab .jupyter-button {\n",
       "                    --jp-layout-color3: var(--colab-primary-surface-color, white);\n",
       "                }\n",
       "            </style>\n",
       "            "
      ],
      "text/plain": [
       "<IPython.core.display.HTML object>"
      ]
     },
     "metadata": {},
     "output_type": "display_data"
    },
    {
     "data": {
      "application/vnd.jupyter.widget-view+json": {
       "model_id": "753f3cd78c5740acbc8720df48d90b4e",
       "version_major": 2,
       "version_minor": 0
      },
      "text/plain": [
       "Map(center=[26.442973720150807, 72.4760299325833], controls=(WidgetControl(options=['position', 'transparent_b…"
      ]
     },
     "execution_count": 13,
     "metadata": {},
     "output_type": "execute_result"
    }
   ],
   "source": [
    "Map"
   ]
  },
  {
   "cell_type": "code",
   "execution_count": 14,
   "id": "7e8cdc58-849e-41c6-bb58-efd2b88797bd",
   "metadata": {},
   "outputs": [
    {
     "data": {
      "text/html": [
       "\n",
       "            <style>\n",
       "                .geemap-dark {\n",
       "                    --jp-widgets-color: white;\n",
       "                    --jp-widgets-label-color: white;\n",
       "                    --jp-ui-font-color1: white;\n",
       "                    --jp-layout-color2: #454545;\n",
       "                    background-color: #383838;\n",
       "                }\n",
       "\n",
       "                .geemap-dark .jupyter-button {\n",
       "                    --jp-layout-color3: #383838;\n",
       "                }\n",
       "\n",
       "                .geemap-colab {\n",
       "                    background-color: var(--colab-primary-surface-color, white);\n",
       "                }\n",
       "\n",
       "                .geemap-colab .jupyter-button {\n",
       "                    --jp-layout-color3: var(--colab-primary-surface-color, white);\n",
       "                }\n",
       "            </style>\n",
       "            "
      ],
      "text/plain": [
       "<IPython.core.display.HTML object>"
      ]
     },
     "metadata": {},
     "output_type": "display_data"
    }
   ],
   "source": [
    "# export image to google drive\n",
    "task = ee.batch.Export.image.toDrive(\n",
    "    image=classified,\n",
    "    description=f\"AEZ_{AEZ}_{PRED_VARIABLE}_AGRI_2023-24\",\n",
    "    region=roi.bounds(), \n",
    "    scale=30,\n",
    "    maxPixels=1e12,\n",
    "    folder=\"EarthEngineExports\"\n",
    ")\n",
    "\n",
    "# export asset to google drive\n",
    "# task = ee.batch.Export.image.toAsset(\n",
    "#     image=classified,\n",
    "#     description=f\"AEZ_{AEZ}_{PRED_VARIABLE}_2024\",\n",
    "#     assetId=f'projects/ee-aakash312000/assets/AEZ_{AEZ}_{PRED_VARIABLE}_2024',\n",
    "#     region=roi.bounds(),\n",
    "#     scale=30,\n",
    "#     maxPixels=1e12\n",
    "# )"
   ]
  },
  {
   "cell_type": "code",
   "execution_count": 15,
   "id": "52586d78-bcbf-4421-9ead-a13f503a16cd",
   "metadata": {},
   "outputs": [
    {
     "data": {
      "text/html": [
       "\n",
       "            <style>\n",
       "                .geemap-dark {\n",
       "                    --jp-widgets-color: white;\n",
       "                    --jp-widgets-label-color: white;\n",
       "                    --jp-ui-font-color1: white;\n",
       "                    --jp-layout-color2: #454545;\n",
       "                    background-color: #383838;\n",
       "                }\n",
       "\n",
       "                .geemap-dark .jupyter-button {\n",
       "                    --jp-layout-color3: #383838;\n",
       "                }\n",
       "\n",
       "                .geemap-colab {\n",
       "                    background-color: var(--colab-primary-surface-color, white);\n",
       "                }\n",
       "\n",
       "                .geemap-colab .jupyter-button {\n",
       "                    --jp-layout-color3: var(--colab-primary-surface-color, white);\n",
       "                }\n",
       "            </style>\n",
       "            "
      ],
      "text/plain": [
       "<IPython.core.display.HTML object>"
      ]
     },
     "metadata": {},
     "output_type": "display_data"
    }
   ],
   "source": [
    "task.start()"
   ]
  },
  {
   "cell_type": "code",
   "execution_count": 16,
   "id": "d49c20b6-bd42-4941-9d3c-406009babd2a",
   "metadata": {},
   "outputs": [
    {
     "data": {
      "text/html": [
       "\n",
       "            <style>\n",
       "                .geemap-dark {\n",
       "                    --jp-widgets-color: white;\n",
       "                    --jp-widgets-label-color: white;\n",
       "                    --jp-ui-font-color1: white;\n",
       "                    --jp-layout-color2: #454545;\n",
       "                    background-color: #383838;\n",
       "                }\n",
       "\n",
       "                .geemap-dark .jupyter-button {\n",
       "                    --jp-layout-color3: #383838;\n",
       "                }\n",
       "\n",
       "                .geemap-colab {\n",
       "                    background-color: var(--colab-primary-surface-color, white);\n",
       "                }\n",
       "\n",
       "                .geemap-colab .jupyter-button {\n",
       "                    --jp-layout-color3: var(--colab-primary-surface-color, white);\n",
       "                }\n",
       "            </style>\n",
       "            "
      ],
      "text/plain": [
       "<IPython.core.display.HTML object>"
      ]
     },
     "metadata": {},
     "output_type": "display_data"
    },
    {
     "data": {
      "text/plain": [
       "{'state': 'READY',\n",
       " 'description': 'AEZ_2_N_AGRI_2023-24',\n",
       " 'priority': 100,\n",
       " 'creation_timestamp_ms': 1751005395783,\n",
       " 'update_timestamp_ms': 1751005395783,\n",
       " 'start_timestamp_ms': 0,\n",
       " 'task_type': 'EXPORT_IMAGE',\n",
       " 'id': 'OC2RUK37HZMX652YAJNGQIIM',\n",
       " 'name': 'projects/227570458547/operations/OC2RUK37HZMX652YAJNGQIIM'}"
      ]
     },
     "execution_count": 16,
     "metadata": {},
     "output_type": "execute_result"
    }
   ],
   "source": [
    "task.status()"
   ]
  },
  {
   "cell_type": "code",
   "execution_count": 17,
   "id": "22d010a6-4bba-4a9d-b175-1d5088ab7e10",
   "metadata": {},
   "outputs": [
    {
     "data": {
      "text/html": [
       "\n",
       "            <style>\n",
       "                .geemap-dark {\n",
       "                    --jp-widgets-color: white;\n",
       "                    --jp-widgets-label-color: white;\n",
       "                    --jp-ui-font-color1: white;\n",
       "                    --jp-layout-color2: #454545;\n",
       "                    background-color: #383838;\n",
       "                }\n",
       "\n",
       "                .geemap-dark .jupyter-button {\n",
       "                    --jp-layout-color3: #383838;\n",
       "                }\n",
       "\n",
       "                .geemap-colab {\n",
       "                    background-color: var(--colab-primary-surface-color, white);\n",
       "                }\n",
       "\n",
       "                .geemap-colab .jupyter-button {\n",
       "                    --jp-layout-color3: var(--colab-primary-surface-color, white);\n",
       "                }\n",
       "            </style>\n",
       "            "
      ],
      "text/plain": [
       "<IPython.core.display.HTML object>"
      ]
     },
     "metadata": {},
     "output_type": "display_data"
    },
    {
     "ename": "SyntaxError",
     "evalue": "invalid syntax (1758769035.py, line 27)",
     "output_type": "error",
     "traceback": [
      "\u001b[0;36m  Cell \u001b[0;32mIn[17], line 27\u001b[0;36m\u001b[0m\n\u001b[0;31m    add north arrow\u001b[0m\n\u001b[0m        ^\u001b[0m\n\u001b[0;31mSyntaxError\u001b[0m\u001b[0;31m:\u001b[0m invalid syntax\n"
     ]
    }
   ],
   "source": [
    "vis = {\n",
    "    \"min\": 0, \n",
    "    \"max\": 750,\n",
    "    'palette' : colormaps.get_palette(\"RdYlGn\", n_class=5),\n",
    "}\n",
    "\n",
    "fig = plt.figure(figsize=(10, 10))\n",
    "\n",
    "bbox = list(geemap.get_bounds(roi.getInfo()))\n",
    "\n",
    "# E, S, W, N\n",
    "region = [bbox[2], bbox[1], bbox[0], bbox[3]]\n",
    "\n",
    "# use cartoee to get a map\n",
    "ax = cartoee.get_map(classified, region=region, vis_params=vis)\n",
    "\n",
    "# print(ax, type(ax))\n",
    "\n",
    "# add a colorbar to the map using the visualization params we passed to the map\n",
    "cartoee.add_colorbar(\n",
    "    ax, vis, loc=\"right\", label=\"Nitrogen (kg/ha)\", orientation=\"vertical\", discrete=True\n",
    ")\n",
    "\n",
    "# add gridlines to the map at a specified interval\n",
    "cartoee.add_gridlines(ax, interval=[2, 2], linestyle=\"--\")\n",
    "\n",
    "# add north arrow\n",
    "cartoee.add_north_arrow(\n",
    "    ax, text=\"N\", xy=(0.85, 0.25), text_color=\"black\", arrow_color=\"black\", fontsize=20\n",
    ")\n",
    "\n",
    "# add scale bar\n",
    "cartoee.add_scale_bar_lite(\n",
    "    ax, length=100, xy=(0.9, 0.05), fontsize=20, color=\"black\", unit=\"km\"\n",
    ")\n",
    "\n",
    "ax.set_title(label=\"Random Forest Predicted Nitrogen\", fontsize=15)\n",
    "plt.savefig()\n",
    "plt.show()"
   ]
  },
  {
   "cell_type": "code",
   "execution_count": 13,
   "id": "b91c02df-ecdd-4286-a999-4475a6c28aac",
   "metadata": {},
   "outputs": [
    {
     "data": {
      "text/html": [
       "\n",
       "            <style>\n",
       "                .geemap-dark {\n",
       "                    --jp-widgets-color: white;\n",
       "                    --jp-widgets-label-color: white;\n",
       "                    --jp-ui-font-color1: white;\n",
       "                    --jp-layout-color2: #454545;\n",
       "                    background-color: #383838;\n",
       "                }\n",
       "\n",
       "                .geemap-dark .jupyter-button {\n",
       "                    --jp-layout-color3: #383838;\n",
       "                }\n",
       "\n",
       "                .geemap-colab {\n",
       "                    background-color: var(--colab-primary-surface-color, white);\n",
       "                }\n",
       "\n",
       "                .geemap-colab .jupyter-button {\n",
       "                    --jp-layout-color3: var(--colab-primary-surface-color, white);\n",
       "                }\n",
       "            </style>\n",
       "            "
      ],
      "text/plain": [
       "<IPython.core.display.HTML object>"
      ]
     },
     "metadata": {},
     "output_type": "display_data"
    },
    {
     "data": {
      "image/png": "[encoded data removed]",
      "text/plain": [
       "<Figure size 1000x1000 with 2 Axes>"
      ]
     },
     "metadata": {},
     "output_type": "display_data"
    }
   ],
   "source": [
    "vis = {\n",
    "    \"min\": 1, \n",
    "    \"max\": 21, \n",
    "    # 'palette' : colormaps.get_palette(\"viridis\", n_class=20),\n",
    "    'palette' : colormaps.get_palette(\"tab20\")\n",
    "}\n",
    "\n",
    "fig = plt.figure(figsize=(10, 10))\n",
    "\n",
    "bbox = list(geemap.get_bounds(aez_fc.geometry().getInfo()))\n",
    "\n",
    "# E, S, W, N\n",
    "region = [bbox[2], bbox[1], bbox[0], bbox[3]]\n",
    "\n",
    "cmap = \"viridis\"  # colormap we want to use\n",
    "\n",
    "# use cartoee to get a map\n",
    "ax = cartoee.get_map(aez_raster, region=region, vis_params=vis)\n",
    "\n",
    "# add a colorbar to the map using the visualization params we passed to the map\n",
    "cartoee.add_colorbar(\n",
    "    ax, vis, loc=\"right\", label=\"AEZ Code\", orientation=\"vertical\", discrete=True\n",
    ")\n",
    "\n",
    "# add gridlines to the map at a specified interval\n",
    "# cartoee.add_gridlines(ax, interval=[5, 5], linestyle=\"--\")\n",
    "\n",
    "# add north arrow\n",
    "cartoee.add_north_arrow(\n",
    "    ax, text=\"N\", xy=(0.05, 0.25), text_color=\"black\", arrow_color=\"black\", fontsize=20\n",
    ")\n",
    "\n",
    "# add scale bar\n",
    "cartoee.add_scale_bar_lite(\n",
    "    ax, length=100, xy=(0.1, 0.05), fontsize=20, color=\"black\", unit=\"km\"\n",
    ")\n",
    "\n",
    "# add coastlines using the cartopy api\n",
    "# ax.coastlines(color=\"red\")\n",
    "\n",
    "ax.set_title(label=\"AEZs of India\", fontsize=15)\n",
    "plt.savefig(\"aez_india.png\", dpi=300)\n",
    "plt.show()"
   ]
  },
  {
   "cell_type": "code",
   "execution_count": null,
   "id": "7ef1bfcc-fbcf-4226-a7de-53a67bf20e87",
   "metadata": {},
   "outputs": [],
   "source": []
  }
 ],
 "metadata": {
  "kernelspec": {
   "display_name": "Python 3 (ipykernel)",
   "language": "python",
   "name": "python3"
  },
  "language_info": {
   "codemirror_mode": {
    "name": "ipython",
    "version": 3
   },
   "file_extension": ".py",
   "mimetype": "text/x-python",
   "name": "python",
   "nbconvert_exporter": "python",
   "pygments_lexer": "ipython3",
   "version": "3.10.12"
  }
 },
 "nbformat": 4,
 "nbformat_minor": 5
}
