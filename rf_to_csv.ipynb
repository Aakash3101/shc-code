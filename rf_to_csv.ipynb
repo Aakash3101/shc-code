{
 "cells": [
  {
   "cell_type": "code",
   "execution_count": 1,
   "id": "f1b06d48-3e2a-41c4-bb50-b0b71e7b91f1",
   "metadata": {},
   "outputs": [],
   "source": [
    "import os\n",
    "import time\n",
    "import datetime\n",
    "import joblib\n",
    "import pandas as pd\n",
    "import ee\n",
    "import geemap\n",
    "from geemap import ml\n",
    "from sklearn import ensemble"
   ]
  },
  {
   "cell_type": "code",
   "execution_count": 2,
   "id": "670c65ad-8c83-484c-b0fe-9145f876a4cf",
   "metadata": {},
   "outputs": [
    {
     "data": {
      "text/html": [
       "\n",
       "            <style>\n",
       "                .geemap-dark {\n",
       "                    --jp-widgets-color: white;\n",
       "                    --jp-widgets-label-color: white;\n",
       "                    --jp-ui-font-color1: white;\n",
       "                    --jp-layout-color2: #454545;\n",
       "                    background-color: #383838;\n",
       "                }\n",
       "\n",
       "                .geemap-dark .jupyter-button {\n",
       "                    --jp-layout-color3: #383838;\n",
       "                }\n",
       "\n",
       "                .geemap-colab {\n",
       "                    background-color: var(--colab-primary-surface-color, white);\n",
       "                }\n",
       "\n",
       "                .geemap-colab .jupyter-button {\n",
       "                    --jp-layout-color3: var(--colab-primary-surface-color, white);\n",
       "                }\n",
       "            </style>\n",
       "            "
      ],
      "text/plain": [
       "<IPython.core.display.HTML object>"
      ]
     },
     "metadata": {},
     "output_type": "display_data"
    },
    {
     "name": "stdout",
     "output_type": "stream",
     "text": [
      "Google Earth Engine initialized successfully!\n"
     ]
    }
   ],
   "source": [
    "# Initialize Earth Engine\n",
    "try:\n",
    "    # ee.Authenticate()\n",
    "    ee.Initialize(opt_url='https://earthengine-highvolume.googleapis.com')\n",
    "    print('Google Earth Engine initialized successfully!')\n",
    "except ee.EEException as e:\n",
    "    print('Google Earth Engine failed to initialize!', e)\n",
    "    raise"
   ]
  },
  {
   "cell_type": "code",
   "execution_count": 44,
   "id": "81cbfe8c-514f-4189-bd7a-08cdfc6e8c48",
   "metadata": {},
   "outputs": [
    {
     "data": {
      "text/html": [
       "\n",
       "            <style>\n",
       "                .geemap-dark {\n",
       "                    --jp-widgets-color: white;\n",
       "                    --jp-widgets-label-color: white;\n",
       "                    --jp-ui-font-color1: white;\n",
       "                    --jp-layout-color2: #454545;\n",
       "                    background-color: #383838;\n",
       "                }\n",
       "\n",
       "                .geemap-dark .jupyter-button {\n",
       "                    --jp-layout-color3: #383838;\n",
       "                }\n",
       "\n",
       "                .geemap-colab {\n",
       "                    background-color: var(--colab-primary-surface-color, white);\n",
       "                }\n",
       "\n",
       "                .geemap-colab .jupyter-button {\n",
       "                    --jp-layout-color3: var(--colab-primary-surface-color, white);\n",
       "                }\n",
       "            </style>\n",
       "            "
      ],
      "text/plain": [
       "<IPython.core.display.HTML object>"
      ]
     },
     "metadata": {},
     "output_type": "display_data"
    },
    {
     "name": "stdout",
     "output_type": "stream",
     "text": [
      "['slope', 'temp', 'RI', 'elevation', 'precipitation', 'sand05', 'silt05', 'sand515', 'longitude', 'latitude']\n"
     ]
    }
   ],
   "source": [
    "INPUT_FOLDER = \"./rfr_joblib\"\n",
    "OUTPUT_FOLDER = \"./rfr_csv\"\n",
    "AEZ = 16\n",
    "date = \"2025-06-25\" # datetime.datetime.today().date()\n",
    "PRED_VARIABLE = \"N\"\n",
    "MODEL_FILE_NAME = f\"rfr_model_{date}_AEZ_{AEZ}_{PRED_VARIABLE}.joblib\"\n",
    "rf = joblib.load(os.path.join(INPUT_FOLDER, MODEL_FILE_NAME))\n",
    "CSV_FILE_NAME = f\"rf_trees_t{rf.get_params()['n_estimators']}_d{rf.get_params()['max_depth']}_{date}_AEZ_{AEZ}_{PRED_VARIABLE}.csv\"\n",
    "feature_names = rf.feature_names_in_.tolist()\n",
    "\n",
    "print(feature_names)"
   ]
  },
  {
   "cell_type": "code",
   "execution_count": 45,
   "id": "23c81c67-6428-433e-9943-c43a5f7b3ef9",
   "metadata": {},
   "outputs": [
    {
     "data": {
      "text/html": [
       "\n",
       "            <style>\n",
       "                .geemap-dark {\n",
       "                    --jp-widgets-color: white;\n",
       "                    --jp-widgets-label-color: white;\n",
       "                    --jp-ui-font-color1: white;\n",
       "                    --jp-layout-color2: #454545;\n",
       "                    background-color: #383838;\n",
       "                }\n",
       "\n",
       "                .geemap-dark .jupyter-button {\n",
       "                    --jp-layout-color3: #383838;\n",
       "                }\n",
       "\n",
       "                .geemap-colab {\n",
       "                    background-color: var(--colab-primary-surface-color, white);\n",
       "                }\n",
       "\n",
       "                .geemap-colab .jupyter-button {\n",
       "                    --jp-layout-color3: var(--colab-primary-surface-color, white);\n",
       "                }\n",
       "            </style>\n",
       "            "
      ],
      "text/plain": [
       "<IPython.core.display.HTML object>"
      ]
     },
     "metadata": {},
     "output_type": "display_data"
    },
    {
     "name": "stdout",
     "output_type": "stream",
     "text": [
      "Time taken : 0:00:52.300453\n"
     ]
    }
   ],
   "source": [
    "start_time = time.perf_counter()\n",
    "\n",
    "# convert the estimator into a list of strings\n",
    "trees = ml.rf_to_strings(rf, feature_names, processes=8, output_mode=\"REGRESSION\")\n",
    "\n",
    "end_time = time.perf_counter()\n",
    "elapsed_time = end_time - start_time\n",
    "a = datetime.timedelta(seconds=elapsed_time)\n",
    "print(\"Time taken : \" + str(a))"
   ]
  },
  {
   "cell_type": "code",
   "execution_count": 46,
   "id": "4bf86879-9b1a-450d-b0c7-03330299d04b",
   "metadata": {},
   "outputs": [
    {
     "data": {
      "text/html": [
       "\n",
       "            <style>\n",
       "                .geemap-dark {\n",
       "                    --jp-widgets-color: white;\n",
       "                    --jp-widgets-label-color: white;\n",
       "                    --jp-ui-font-color1: white;\n",
       "                    --jp-layout-color2: #454545;\n",
       "                    background-color: #383838;\n",
       "                }\n",
       "\n",
       "                .geemap-dark .jupyter-button {\n",
       "                    --jp-layout-color3: #383838;\n",
       "                }\n",
       "\n",
       "                .geemap-colab {\n",
       "                    background-color: var(--colab-primary-surface-color, white);\n",
       "                }\n",
       "\n",
       "                .geemap-colab .jupyter-button {\n",
       "                    --jp-layout-color3: var(--colab-primary-surface-color, white);\n",
       "                }\n",
       "            </style>\n",
       "            "
      ],
      "text/plain": [
       "<IPython.core.display.HTML object>"
      ]
     },
     "metadata": {},
     "output_type": "display_data"
    },
    {
     "name": "stdout",
     "output_type": "stream",
     "text": [
      "[135673, 133761, 130621, 143236, 135067, 135772, 139145, 135801, 146449, 137483, 138367, 139553, 139633, 133061, 135431, 135193, 137749, 143539, 133764, 141264, 136543, 144257, 140252, 136550, 131540, 136824, 137247, 143553, 133730, 132155]\n"
     ]
    }
   ],
   "source": [
    "sizes = [len(trees[i]) for i in range(len(trees))]\n",
    "print(sizes)"
   ]
  },
  {
   "cell_type": "code",
   "execution_count": 47,
   "id": "5cac92ac-9e67-41e4-860a-fc5945d96961",
   "metadata": {},
   "outputs": [
    {
     "data": {
      "text/html": [
       "\n",
       "            <style>\n",
       "                .geemap-dark {\n",
       "                    --jp-widgets-color: white;\n",
       "                    --jp-widgets-label-color: white;\n",
       "                    --jp-ui-font-color1: white;\n",
       "                    --jp-layout-color2: #454545;\n",
       "                    background-color: #383838;\n",
       "                }\n",
       "\n",
       "                .geemap-dark .jupyter-button {\n",
       "                    --jp-layout-color3: #383838;\n",
       "                }\n",
       "\n",
       "                .geemap-colab {\n",
       "                    background-color: var(--colab-primary-surface-color, white);\n",
       "                }\n",
       "\n",
       "                .geemap-colab .jupyter-button {\n",
       "                    --jp-layout-color3: var(--colab-primary-surface-color, white);\n",
       "                }\n",
       "            </style>\n",
       "            "
      ],
      "text/plain": [
       "<IPython.core.display.HTML object>"
      ]
     },
     "metadata": {},
     "output_type": "display_data"
    }
   ],
   "source": [
    "file_path = os.path.join(OUTPUT_FOLDER, CSV_FILE_NAME)\n",
    "ml.trees_to_csv(trees, file_path)"
   ]
  },
  {
   "cell_type": "code",
   "execution_count": 13,
   "id": "fddb10ea-cd19-411a-aee8-2f399298bf48",
   "metadata": {},
   "outputs": [
    {
     "data": {
      "text/html": [
       "\n",
       "            <style>\n",
       "                .geemap-dark {\n",
       "                    --jp-widgets-color: white;\n",
       "                    --jp-widgets-label-color: white;\n",
       "                    --jp-ui-font-color1: white;\n",
       "                    --jp-layout-color2: #454545;\n",
       "                    background-color: #383838;\n",
       "                }\n",
       "\n",
       "                .geemap-dark .jupyter-button {\n",
       "                    --jp-layout-color3: #383838;\n",
       "                }\n",
       "\n",
       "                .geemap-colab {\n",
       "                    background-color: var(--colab-primary-surface-color, white);\n",
       "                }\n",
       "\n",
       "                .geemap-colab .jupyter-button {\n",
       "                    --jp-layout-color3: var(--colab-primary-surface-color, white);\n",
       "                }\n",
       "            </style>\n",
       "            "
      ],
      "text/plain": [
       "<IPython.core.display.HTML object>"
      ]
     },
     "metadata": {},
     "output_type": "display_data"
    }
   ],
   "source": [
    "df = pd.read_csv(file_path, header=None)"
   ]
  },
  {
   "cell_type": "code",
   "execution_count": 14,
   "id": "0a366b25-476f-4f37-8f2a-a7be69cfc7ff",
   "metadata": {},
   "outputs": [
    {
     "data": {
      "text/html": [
       "\n",
       "            <style>\n",
       "                .geemap-dark {\n",
       "                    --jp-widgets-color: white;\n",
       "                    --jp-widgets-label-color: white;\n",
       "                    --jp-ui-font-color1: white;\n",
       "                    --jp-layout-color2: #454545;\n",
       "                    background-color: #383838;\n",
       "                }\n",
       "\n",
       "                .geemap-dark .jupyter-button {\n",
       "                    --jp-layout-color3: #383838;\n",
       "                }\n",
       "\n",
       "                .geemap-colab {\n",
       "                    background-color: var(--colab-primary-surface-color, white);\n",
       "                }\n",
       "\n",
       "                .geemap-colab .jupyter-button {\n",
       "                    --jp-layout-color3: var(--colab-primary-surface-color, white);\n",
       "                }\n",
       "            </style>\n",
       "            "
      ],
      "text/plain": [
       "<IPython.core.display.HTML object>"
      ]
     },
     "metadata": {},
     "output_type": "display_data"
    },
    {
     "name": "stdout",
     "output_type": "stream",
     "text": [
      "Number of trees: 50\n",
      "Tree sizes : [206954, 194190, 200676, 206700, 205759, 205152, 203323, 197200, 210660, 214174, 209046, 209023, 210324, 211262, 211243, 203550, 203746, 209526, 203799, 199994, 208119, 211635, 212838, 210264, 212206, 208473, 201781, 210976, 204348, 199704, 206705, 210819, 212590, 209304, 206883, 207653, 210636, 198790, 216589, 211387, 208133, 206754, 203134, 199412, 198675, 212385, 202053, 208096, 218634, 198868]\n"
     ]
    }
   ],
   "source": [
    "n = len(df)\n",
    "print(f\"Number of trees: {n}\")\n",
    "\n",
    "sizes = [len(df.loc[i].values[0]) for i in range(n)]\n",
    "print(f\"Tree sizes : {sizes}\")"
   ]
  },
  {
   "cell_type": "code",
   "execution_count": null,
   "id": "dfe44ecc-466c-40a4-955e-d1fd24c0502a",
   "metadata": {},
   "outputs": [],
   "source": []
  }
 ],
 "metadata": {
  "kernelspec": {
   "display_name": "Python 3 (ipykernel)",
   "language": "python",
   "name": "python3"
  },
  "language_info": {
   "codemirror_mode": {
    "name": "ipython",
    "version": 3
   },
   "file_extension": ".py",
   "mimetype": "text/x-python",
   "name": "python",
   "nbconvert_exporter": "python",
   "pygments_lexer": "ipython3",
   "version": "3.10.12"
  }
 },
 "nbformat": 4,
 "nbformat_minor": 5
}
