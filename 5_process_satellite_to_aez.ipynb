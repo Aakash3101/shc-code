{
 "cells": [
  {
   "cell_type": "markdown",
   "id": "488c52a1-3fcb-42ec-88f5-fe42ad459e08",
   "metadata": {},
   "source": [
    "# Processing the Satellite data downloaded from Google Drive to add lat, long as columns"
   ]
  },
  {
   "cell_type": "code",
   "execution_count": 1,
   "id": "a9e39536-8983-4439-9886-886532252bf5",
   "metadata": {},
   "outputs": [
    {
     "name": "stdout",
     "output_type": "stream",
     "text": [
      "  system:index     B      BLUE     Cu     EC      Fe     GREEN      K     Mn  \\\n",
      "0          0_0  0.91  0.112519  1.204  0.718   8.609  0.123572  258.0  1.204   \n",
      "1          1_0  0.81  0.129469  0.781  0.549  11.275  0.138334  147.0  4.543   \n",
      "2          2_0  0.82  0.144166  0.977  0.717  19.871  0.155562  370.0  3.941   \n",
      "3          3_0  0.63  0.193156  1.398  0.636  12.180  0.204409  209.0  4.396   \n",
      "4          4_0  1.00  0.162538  1.115  0.459  13.693  0.171962  236.0  5.854   \n",
      "\n",
      "       N  ...  sand05  sand515  silt05  silt515     slope  \\\n",
      "0  202.0  ...     316      317     392      390  4.208206   \n",
      "1  222.0  ...     286      291     415      400  1.383771   \n",
      "2  223.0  ...     282      285     414      409  4.739286   \n",
      "3  181.0  ...     291      294     400      397  1.383168   \n",
      "4  216.0  ...     312      311     376      373  1.383140   \n",
      "\n",
      "            start_date       temp      village  longitude   latitude  \n",
      "0  2023-07-01T00:00:00  30.234000        Pabra  86.113357  25.561966  \n",
      "1  2023-07-01T00:00:00  30.326839       Sadpur  86.343505  25.464678  \n",
      "2  2023-07-01T00:00:00  30.073030        Sakra  86.178844  25.599156  \n",
      "3  2023-07-01T00:00:00  30.332800      Shahpur  86.349434  25.369277  \n",
      "4  2023-07-01T00:00:00  30.301222  Dhanuk Toli  86.255380  25.364696  \n",
      "\n",
      "[5 rows x 38 columns]\n"
     ]
    }
   ],
   "source": [
    "import os\n",
    "import pandas as pd\n",
    "\n",
    "DATA_DIR = \"./shc_data/\"\n",
    "SATELLITE_DIR = \"SATELLITE_DATA\"\n",
    "YEAR = \"AGRI_2023-24\"\n",
    "\n",
    "PATH = os.path.join(DATA_DIR, SATELLITE_DIR, YEAR)\n",
    "states = os.listdir(PATH)\n",
    "\n",
    "state_dfs = []\n",
    "for state in states:\n",
    "    district_dfs = []\n",
    "    files = os.listdir(os.path.join(PATH, state))\n",
    "    for file in files:\n",
    "        try:\n",
    "            df = pd.read_csv(os.path.join(PATH, state, file))\n",
    "        except pd.errors.EmptyDataError:\n",
    "            continue\n",
    "        district_dfs.append(df) \n",
    "    try:\n",
    "        temp_df = pd.concat(district_dfs, ignore_index=True)\n",
    "    except ValueError:\n",
    "        continue\n",
    "    \n",
    "    state_dfs.append(temp_df)\n",
    "\n",
    "merged_df = pd.concat(state_dfs, ignore_index=True)\n",
    "\n",
    "# Apply your split logic and extract lat/lon\n",
    "coords = merged_df['.geo'].apply(lambda x: x.split('\"coordinates\":')[1].split('}')[0].strip('[').strip(']').split(','))\n",
    "\n",
    "# Convert to DataFrame and assign to new columns\n",
    "merged_df[['longitude', 'latitude']] = pd.DataFrame(coords.tolist(), index=merged_df.index).astype(float)\n",
    "merged_df = merged_df.drop(['.geo'], axis=1)\n",
    "\n",
    "print(merged_df.head())"
   ]
  },
  {
   "cell_type": "code",
   "execution_count": 11,
   "id": "f819f0a3-7895-43b7-8e6e-be9f55f93628",
   "metadata": {},
   "outputs": [],
   "source": [
    "# merged_df.to_csv(os.path.join(DATA_DIR, SATELLITE_DIR, YEAR, \"COMBINED_2024.csv\"), index=False)"
   ]
  },
  {
   "cell_type": "markdown",
   "id": "f8865845-287c-4036-8d05-a2b4ffa1e9e8",
   "metadata": {},
   "source": [
    "# Split the Satellite data into AEZs"
   ]
  },
  {
   "cell_type": "code",
   "execution_count": 10,
   "id": "60abc1ba-d6ca-4ec4-93ef-2e080b27d72b",
   "metadata": {},
   "outputs": [],
   "source": [
    "import numpy as np\n",
    "from utils.segregate_by_aez import segregate_by_aez\n",
    "\n",
    "SAVE_DIR = os.path.join(DATA_DIR, \"AEZS\", YEAR)\n",
    "os.makedirs(SAVE_DIR, exist_ok=True)"
   ]
  },
  {
   "cell_type": "code",
   "execution_count": 11,
   "id": "ebf859f7-940a-42a9-8fa8-8e0811b612b4",
   "metadata": {},
   "outputs": [],
   "source": [
    "aez_df = segregate_by_aez(merged_df)"
   ]
  },
  {
   "cell_type": "code",
   "execution_count": 12,
   "id": "1e96c72c-3a9c-4be7-8b8d-6b80a09be2e8",
   "metadata": {},
   "outputs": [
    {
     "data": {
      "text/plain": [
       "array([13.,  9., 11., 15.,  4.,  2.,  5., 19.,  6., 16., 17., 18.,  7.,\n",
       "       12.,  3.,  8., 10., 14., 20.])"
      ]
     },
     "execution_count": 12,
     "metadata": {},
     "output_type": "execute_result"
    }
   ],
   "source": [
    "unique_aezs = aez_df['ae_regcode'].unique()\n",
    "unique_aezs = unique_aezs[~np.isnan(unique_aezs)]\n",
    "unique_aezs"
   ]
  },
  {
   "cell_type": "code",
   "execution_count": 13,
   "id": "8bf0d03c-9e48-41c2-8ab2-7cf5b711fc3a",
   "metadata": {},
   "outputs": [
    {
     "name": "stdout",
     "output_type": "stream",
     "text": [
      "13 205491\n",
      "9 223225\n",
      "11 119979\n",
      "15 356828\n",
      "4 410215\n",
      "2 151428\n",
      "5 145290\n",
      "19 28087\n",
      "6 136459\n",
      "16 21233\n",
      "17 20879\n",
      "18 74000\n",
      "7 24207\n",
      "12 98214\n",
      "3 32929\n",
      "8 193841\n",
      "10 118962\n",
      "14 53571\n",
      "20 203\n"
     ]
    }
   ],
   "source": [
    "for aez in unique_aezs:\n",
    "    df = aez_df[aez_df['ae_regcode'] == aez]\n",
    "    print(int(aez), len(df))\n",
    "    df.to_csv(os.path.join(SAVE_DIR, f\"AEZ_{int(aez)}.csv\"), index=False)"
   ]
  },
  {
   "cell_type": "code",
   "execution_count": null,
   "id": "dd2a51e2-c226-4f47-9a79-955fc0eec140",
   "metadata": {},
   "outputs": [],
   "source": []
  },
  {
   "cell_type": "markdown",
   "id": "2aec85b3-6f43-4105-9df8-1a547d327d05",
   "metadata": {},
   "source": [
    "# Features selected for the prediction for each AEZ"
   ]
  },
  {
   "cell_type": "code",
   "execution_count": 1,
   "id": "6fac9064-6d12-4203-8dd0-34fa455a5e46",
   "metadata": {},
   "outputs": [],
   "source": [
    "import os\n",
    "import joblib\n",
    "import pandas as pd"
   ]
  },
  {
   "cell_type": "code",
   "execution_count": 8,
   "id": "f9bb7701-dd25-46ee-95fa-08cf6e08cb62",
   "metadata": {},
   "outputs": [],
   "source": [
    "PATH = \"./rfr_joblib/\"\n",
    "files = os.listdir(PATH)\n",
    "data_dict = {\"AEZ\" : [], \"features\": []}\n",
    "PRED_VARIABLE = 'N'\n",
    "aez_list = []\n",
    "features_list = []\n",
    "\n",
    "for file in files:\n",
    "    if file.endswith(f\"{PRED_VARIABLE}.joblib\"):\n",
    "        aez = file.split(\"_AEZ_\")[1].split(\"_\")[0]\n",
    "        rf = joblib.load(os.path.join(PATH, file))\n",
    "        feature_importance_df = pd.DataFrame({\n",
    "            \"Feature\": rf.feature_names_in_.tolist(),\n",
    "            \"Importance\": rf.feature_importances_\n",
    "        })\n",
    "        # Sort in Descending Order\n",
    "        feature_importance_df = feature_importance_df.sort_values(by=\"Importance\", ascending=False)\n",
    "        aez_list.append(int(aez))\n",
    "        features_list.append(feature_importance_df[\"Feature\"].tolist())\n",
    "\n",
    "data_dict[\"AEZ\"] = aez_list\n",
    "data_dict[\"features\"] = features_list\n",
    "\n",
    "df = pd.DataFrame(data_dict)\n",
    "df = df.sort_values(by='AEZ', ascending=True)\n",
    "df.to_csv(f\"aez_features_{PRED_VARIABLE}.csv\", index=False)"
   ]
  },
  {
   "cell_type": "code",
   "execution_count": null,
   "id": "80538e6b-db03-45d9-ba35-345ba59f0556",
   "metadata": {},
   "outputs": [],
   "source": []
  }
 ],
 "metadata": {
  "kernelspec": {
   "display_name": "Python 3 (ipykernel)",
   "language": "python",
   "name": "python3"
  },
  "language_info": {
   "codemirror_mode": {
    "name": "ipython",
    "version": 3
   },
   "file_extension": ".py",
   "mimetype": "text/x-python",
   "name": "python",
   "nbconvert_exporter": "python",
   "pygments_lexer": "ipython3",
   "version": "3.10.12"
  }
 },
 "nbformat": 4,
 "nbformat_minor": 5
}
